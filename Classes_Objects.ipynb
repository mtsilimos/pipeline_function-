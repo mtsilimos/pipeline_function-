{
 "cells": [
  {
   "cell_type": "markdown",
   "id": "77691b16-9c98-419c-9628-71ab6ca005f3",
   "metadata": {},
   "source": [
    "Python is an object oriented programming language.\r\n",
    "\r\n",
    "Almost everything in Python is an object, with its properties and methods.\r\n",
    "\r\n",
    "A Class is like an object constructor, or a \"blueprint\" for creating objects."
   ]
  },
  {
   "cell_type": "code",
   "execution_count": 1,
   "id": "5902a7d4-ff6c-4699-876c-a51601cb7d9b",
   "metadata": {},
   "outputs": [],
   "source": [
    "#CREATE A CLASS\n",
    "#To create a class, use the keyword class, with the property x, and I assign the value 5 to the property\n",
    "\n",
    "class MyClass:\n",
    "    x = 5"
   ]
  },
  {
   "cell_type": "code",
   "execution_count": 3,
   "id": "606c4ae0-5a7e-41bb-9373-c79193eb10fa",
   "metadata": {},
   "outputs": [
    {
     "data": {
      "text/plain": [
       "__main__.MyClass"
      ]
     },
     "execution_count": 3,
     "metadata": {},
     "output_type": "execute_result"
    }
   ],
   "source": [
    "MyClass"
   ]
  },
  {
   "cell_type": "code",
   "execution_count": 4,
   "id": "e4b487c3-5643-4ab6-a48f-d7f9f209f3cc",
   "metadata": {},
   "outputs": [
    {
     "data": {
      "text/plain": [
       "5"
      ]
     },
     "execution_count": 4,
     "metadata": {},
     "output_type": "execute_result"
    }
   ],
   "source": [
    "#CREATE AN OBJECT\n",
    "#Now we can use the class named MyClass to create an object, called p1, and print the value\n",
    "\n",
    "p1 = MyClass()\n",
    "p1.x "
   ]
  },
  {
   "cell_type": "code",
   "execution_count": null,
   "id": "f16d73df-36e5-4c16-81e4-162f23342d58",
   "metadata": {},
   "outputs": [],
   "source": [
    "#All classes have a built-in function called __init__(), which is always executed when the class is being initiated.\n",
    "#Use the __init__() function to assign values to (object) properties, or other operations that are necessary to do when the object is being created"
   ]
  },
  {
   "cell_type": "code",
   "execution_count": 15,
   "id": "97ec5da6-3f3f-4142-8108-5e4406a79cec",
   "metadata": {},
   "outputs": [],
   "source": [
    "#Create a class named Person, use the __init__() function to assign values to the properties name and age\n",
    "\n",
    "class Person:\n",
    "    def __init__(self, name, age): #define the properties of the class\n",
    "        self.name = name #property name\n",
    "        self.age = age #property age\n",
    "\n",
    "p1 = Person('John', 36) # create an object p1 and assign values to the properties \n",
    "\n",
    "#The __init__() function is called automatically every time the class is being used to create a new object."
   ]
  },
  {
   "cell_type": "code",
   "execution_count": 13,
   "id": "72f6734e-3455-4b58-8e24-94cff4702c2b",
   "metadata": {},
   "outputs": [
    {
     "data": {
      "text/plain": [
       "'John'"
      ]
     },
     "execution_count": 13,
     "metadata": {},
     "output_type": "execute_result"
    }
   ],
   "source": [
    "p1.name # print the value of the property name (beloging to the class)"
   ]
  },
  {
   "cell_type": "code",
   "execution_count": 14,
   "id": "920bac69-3f01-49bc-8821-62609c2c0fb9",
   "metadata": {},
   "outputs": [
    {
     "data": {
      "text/plain": [
       "36"
      ]
     },
     "execution_count": 14,
     "metadata": {},
     "output_type": "execute_result"
    }
   ],
   "source": [
    "p1.age ## print the value of the property age (belonging to the the class)"
   ]
  },
  {
   "cell_type": "code",
   "execution_count": 22,
   "id": "c1447d4d-2508-4041-9e42-69765897a1ca",
   "metadata": {},
   "outputs": [],
   "source": [
    "#in summary, I have a class with its own properties and then I create an object out of this class and I assigne values to these properties"
   ]
  },
  {
   "cell_type": "code",
   "execution_count": null,
   "id": "590b8003-7ce9-41d2-9a07-d4f8164d77eb",
   "metadata": {},
   "outputs": [],
   "source": []
  }
 ],
 "metadata": {
  "kernelspec": {
   "display_name": "Python 3 (ipykernel)",
   "language": "python",
   "name": "python3"
  },
  "language_info": {
   "codemirror_mode": {
    "name": "ipython",
    "version": 3
   },
   "file_extension": ".py",
   "mimetype": "text/x-python",
   "name": "python",
   "nbconvert_exporter": "python",
   "pygments_lexer": "ipython3",
   "version": "3.9.0"
  }
 },
 "nbformat": 4,
 "nbformat_minor": 5
}
